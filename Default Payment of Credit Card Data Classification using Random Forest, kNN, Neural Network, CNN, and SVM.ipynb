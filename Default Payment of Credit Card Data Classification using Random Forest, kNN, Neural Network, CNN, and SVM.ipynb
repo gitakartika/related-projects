{
  "nbformat": 4,
  "nbformat_minor": 0,
  "metadata": {
    "kernelspec": {
      "display_name": "Python 3",
      "language": "python",
      "name": "python3"
    },
    "language_info": {
      "codemirror_mode": {
        "name": "ipython",
        "version": 3
      },
      "file_extension": ".py",
      "mimetype": "text/x-python",
      "name": "python",
      "nbconvert_exporter": "python",
      "pygments_lexer": "ipython3",
      "version": "3.7.4"
    },
    "colab": {
      "name": "Default Payment of Credit Card Data Classification using Random Forest, kNN, Neural Network,  CNN, and SVM.ipynb",
      "provenance": [],
      "collapsed_sections": [],
      "toc_visible": true,
      "include_colab_link": true
    }
  },
  "cells": [
    {
      "cell_type": "markdown",
      "metadata": {
        "id": "view-in-github",
        "colab_type": "text"
      },
      "source": [
        "<a href=\"https://colab.research.google.com/github/gitakartika/related-projects/blob/master/Default_Payment_of_Credit_Card_Data_Classification_using_Random_Forest%2C_kNN%2C_Neural_Network%2C_CNN%2C_and_SVM.ipynb\" target=\"_parent\"><img src=\"https://colab.research.google.com/assets/colab-badge.svg\" alt=\"Open In Colab\"/></a>"
      ]
    },
    {
      "cell_type": "code",
      "metadata": {
        "id": "iU3wKMG0ZjZ9",
        "colab_type": "code",
        "outputId": "b6957795-0cbc-43d0-d6a7-e7b3163211da",
        "colab": {
          "base_uri": "https://localhost:8080/",
          "height": 122
        }
      },
      "source": [
        "from google.colab import drive\n",
        "drive.mount('/content/drive')"
      ],
      "execution_count": 1,
      "outputs": [
        {
          "output_type": "stream",
          "text": [
            "Go to this URL in a browser: https://accounts.google.com/o/oauth2/auth?client_id=947318989803-6bn6qk8qdgf4n4g3pfee6491hc0brc4i.apps.googleusercontent.com&redirect_uri=urn%3aietf%3awg%3aoauth%3a2.0%3aoob&response_type=code&scope=email%20https%3a%2f%2fwww.googleapis.com%2fauth%2fdocs.test%20https%3a%2f%2fwww.googleapis.com%2fauth%2fdrive%20https%3a%2f%2fwww.googleapis.com%2fauth%2fdrive.photos.readonly%20https%3a%2f%2fwww.googleapis.com%2fauth%2fpeopleapi.readonly\n",
            "\n",
            "Enter your authorization code:\n",
            "··········\n",
            "Mounted at /content/drive\n"
          ],
          "name": "stdout"
        }
      ]
    },
    {
      "cell_type": "code",
      "metadata": {
        "id": "BcugIeUKHO3I",
        "colab_type": "code",
        "colab": {}
      },
      "source": [
        "import numpy as np\n",
        "import pandas as pd \n",
        "import seaborn as sns\n",
        "import matplotlib.pyplot as plt\n",
        "from sklearn import preprocessing\n",
        "from sklearn.model_selection import train_test_split, GridSearchCV, cross_val_score\n",
        "from sklearn.utils import resample\n",
        "from sklearn.ensemble import RandomForestClassifier\n",
        "import seaborn as sns\n",
        "from sklearn.metrics import f1_score,accuracy_score,classification_report,roc_auc_score, roc_curve\n",
        "from sklearn.tree import DecisionTreeClassifier\n",
        "import pandas as pd\n",
        "import numpy as np\n",
        "from sklearn.feature_selection import SelectKBest\n",
        "from sklearn.feature_selection import chi2\n",
        "from sklearn.preprocessing import StandardScaler"
      ],
      "execution_count": 0,
      "outputs": []
    },
    {
      "cell_type": "code",
      "metadata": {
        "id": "ppdY6FfnnsJT",
        "colab_type": "code",
        "outputId": "3d7e861f-f2b8-4d12-ec89-e413cd8aa1e9",
        "colab": {
          "base_uri": "https://localhost:8080/",
          "height": 272
        }
      },
      "source": [
        "df = pd.read_csv('/content/drive/My Drive/Default of Credit Card Clients_training.csv',index_col='ID')\n",
        "df = df.rename(columns={'default.payment.next.month': 'DEFAULT', 'PAY_0': 'PAY_1'})\n",
        "df.sort_values('ID').head(n=5)"
      ],
      "execution_count": 4,
      "outputs": [
        {
          "output_type": "execute_result",
          "data": {
            "text/html": [
              "<div>\n",
              "<style scoped>\n",
              "    .dataframe tbody tr th:only-of-type {\n",
              "        vertical-align: middle;\n",
              "    }\n",
              "\n",
              "    .dataframe tbody tr th {\n",
              "        vertical-align: top;\n",
              "    }\n",
              "\n",
              "    .dataframe thead th {\n",
              "        text-align: right;\n",
              "    }\n",
              "</style>\n",
              "<table border=\"1\" class=\"dataframe\">\n",
              "  <thead>\n",
              "    <tr style=\"text-align: right;\">\n",
              "      <th></th>\n",
              "      <th>LIMIT_BAL</th>\n",
              "      <th>SEX</th>\n",
              "      <th>EDUCATION</th>\n",
              "      <th>MARRIAGE</th>\n",
              "      <th>AGE</th>\n",
              "      <th>PAY_1</th>\n",
              "      <th>PAY_2</th>\n",
              "      <th>PAY_3</th>\n",
              "      <th>PAY_4</th>\n",
              "      <th>PAY_5</th>\n",
              "      <th>PAY_6</th>\n",
              "      <th>BILL_AMT1</th>\n",
              "      <th>BILL_AMT2</th>\n",
              "      <th>BILL_AMT3</th>\n",
              "      <th>BILL_AMT4</th>\n",
              "      <th>BILL_AMT5</th>\n",
              "      <th>BILL_AMT6</th>\n",
              "      <th>PAY_AMT1</th>\n",
              "      <th>PAY_AMT2</th>\n",
              "      <th>PAY_AMT3</th>\n",
              "      <th>PAY_AMT4</th>\n",
              "      <th>PAY_AMT5</th>\n",
              "      <th>PAY_AMT6</th>\n",
              "      <th>DEFAULT</th>\n",
              "    </tr>\n",
              "    <tr>\n",
              "      <th>ID</th>\n",
              "      <th></th>\n",
              "      <th></th>\n",
              "      <th></th>\n",
              "      <th></th>\n",
              "      <th></th>\n",
              "      <th></th>\n",
              "      <th></th>\n",
              "      <th></th>\n",
              "      <th></th>\n",
              "      <th></th>\n",
              "      <th></th>\n",
              "      <th></th>\n",
              "      <th></th>\n",
              "      <th></th>\n",
              "      <th></th>\n",
              "      <th></th>\n",
              "      <th></th>\n",
              "      <th></th>\n",
              "      <th></th>\n",
              "      <th></th>\n",
              "      <th></th>\n",
              "      <th></th>\n",
              "      <th></th>\n",
              "      <th></th>\n",
              "    </tr>\n",
              "  </thead>\n",
              "  <tbody>\n",
              "    <tr>\n",
              "      <th>2</th>\n",
              "      <td>120000.0</td>\n",
              "      <td>FEMALE</td>\n",
              "      <td>UNIVERSITY</td>\n",
              "      <td>SINGLE</td>\n",
              "      <td>26</td>\n",
              "      <td>-1</td>\n",
              "      <td>2</td>\n",
              "      <td>0</td>\n",
              "      <td>0</td>\n",
              "      <td>0</td>\n",
              "      <td>2</td>\n",
              "      <td>2682.0</td>\n",
              "      <td>1725.0</td>\n",
              "      <td>2682.0</td>\n",
              "      <td>3272.0</td>\n",
              "      <td>3455.0</td>\n",
              "      <td>3261.0</td>\n",
              "      <td>0.0</td>\n",
              "      <td>1000.0</td>\n",
              "      <td>1000.0</td>\n",
              "      <td>1000.0</td>\n",
              "      <td>0.0</td>\n",
              "      <td>2000.0</td>\n",
              "      <td>1</td>\n",
              "    </tr>\n",
              "    <tr>\n",
              "      <th>3</th>\n",
              "      <td>90000.0</td>\n",
              "      <td>FEMALE</td>\n",
              "      <td>UNIVERSITY</td>\n",
              "      <td>SINGLE</td>\n",
              "      <td>34</td>\n",
              "      <td>0</td>\n",
              "      <td>0</td>\n",
              "      <td>0</td>\n",
              "      <td>0</td>\n",
              "      <td>0</td>\n",
              "      <td>0</td>\n",
              "      <td>29239.0</td>\n",
              "      <td>14027.0</td>\n",
              "      <td>13559.0</td>\n",
              "      <td>14331.0</td>\n",
              "      <td>14948.0</td>\n",
              "      <td>15549.0</td>\n",
              "      <td>1518.0</td>\n",
              "      <td>1500.0</td>\n",
              "      <td>1000.0</td>\n",
              "      <td>1000.0</td>\n",
              "      <td>1000.0</td>\n",
              "      <td>5000.0</td>\n",
              "      <td>0</td>\n",
              "    </tr>\n",
              "    <tr>\n",
              "      <th>4</th>\n",
              "      <td>50000.0</td>\n",
              "      <td>FEMALE</td>\n",
              "      <td>UNIVERSITY</td>\n",
              "      <td>MARRIED</td>\n",
              "      <td>37</td>\n",
              "      <td>0</td>\n",
              "      <td>0</td>\n",
              "      <td>0</td>\n",
              "      <td>0</td>\n",
              "      <td>0</td>\n",
              "      <td>0</td>\n",
              "      <td>46990.0</td>\n",
              "      <td>48233.0</td>\n",
              "      <td>49291.0</td>\n",
              "      <td>28314.0</td>\n",
              "      <td>28959.0</td>\n",
              "      <td>29547.0</td>\n",
              "      <td>2000.0</td>\n",
              "      <td>2019.0</td>\n",
              "      <td>1200.0</td>\n",
              "      <td>1100.0</td>\n",
              "      <td>1069.0</td>\n",
              "      <td>1000.0</td>\n",
              "      <td>0</td>\n",
              "    </tr>\n",
              "    <tr>\n",
              "      <th>5</th>\n",
              "      <td>50000.0</td>\n",
              "      <td>MALE</td>\n",
              "      <td>UNIVERSITY</td>\n",
              "      <td>MARRIED</td>\n",
              "      <td>57</td>\n",
              "      <td>-1</td>\n",
              "      <td>0</td>\n",
              "      <td>-1</td>\n",
              "      <td>0</td>\n",
              "      <td>0</td>\n",
              "      <td>0</td>\n",
              "      <td>8617.0</td>\n",
              "      <td>5670.0</td>\n",
              "      <td>35835.0</td>\n",
              "      <td>20940.0</td>\n",
              "      <td>19146.0</td>\n",
              "      <td>19131.0</td>\n",
              "      <td>2000.0</td>\n",
              "      <td>36681.0</td>\n",
              "      <td>10000.0</td>\n",
              "      <td>9000.0</td>\n",
              "      <td>689.0</td>\n",
              "      <td>679.0</td>\n",
              "      <td>0</td>\n",
              "    </tr>\n",
              "    <tr>\n",
              "      <th>6</th>\n",
              "      <td>50000.0</td>\n",
              "      <td>MALE</td>\n",
              "      <td>GRADUATE SCHOOL</td>\n",
              "      <td>SINGLE</td>\n",
              "      <td>37</td>\n",
              "      <td>0</td>\n",
              "      <td>0</td>\n",
              "      <td>0</td>\n",
              "      <td>0</td>\n",
              "      <td>0</td>\n",
              "      <td>0</td>\n",
              "      <td>64400.0</td>\n",
              "      <td>57069.0</td>\n",
              "      <td>57608.0</td>\n",
              "      <td>19394.0</td>\n",
              "      <td>19619.0</td>\n",
              "      <td>20024.0</td>\n",
              "      <td>2500.0</td>\n",
              "      <td>1815.0</td>\n",
              "      <td>657.0</td>\n",
              "      <td>1000.0</td>\n",
              "      <td>1000.0</td>\n",
              "      <td>800.0</td>\n",
              "      <td>0</td>\n",
              "    </tr>\n",
              "  </tbody>\n",
              "</table>\n",
              "</div>"
            ],
            "text/plain": [
              "    LIMIT_BAL     SEX        EDUCATION  ... PAY_AMT5  PAY_AMT6  DEFAULT\n",
              "ID                                      ...                            \n",
              "2    120000.0  FEMALE       UNIVERSITY  ...      0.0    2000.0        1\n",
              "3     90000.0  FEMALE       UNIVERSITY  ...   1000.0    5000.0        0\n",
              "4     50000.0  FEMALE       UNIVERSITY  ...   1069.0    1000.0        0\n",
              "5     50000.0    MALE       UNIVERSITY  ...    689.0     679.0        0\n",
              "6     50000.0    MALE  GRADUATE SCHOOL  ...   1000.0     800.0        0\n",
              "\n",
              "[5 rows x 24 columns]"
            ]
          },
          "metadata": {
            "tags": []
          },
          "execution_count": 4
        }
      ]
    },
    {
      "cell_type": "code",
      "metadata": {
        "id": "pmjSkqDmugnJ",
        "colab_type": "code",
        "outputId": "6ab7a45c-21a4-4d36-ef24-aa660fb228a9",
        "colab": {
          "base_uri": "https://localhost:8080/",
          "height": 34
        }
      },
      "source": [
        "print(df.isnull().values.any())"
      ],
      "execution_count": 5,
      "outputs": [
        {
          "output_type": "stream",
          "text": [
            "False\n"
          ],
          "name": "stdout"
        }
      ]
    },
    {
      "cell_type": "code",
      "metadata": {
        "id": "62uPxySQDmiW",
        "colab_type": "code",
        "colab": {}
      },
      "source": [
        "features=['LIMIT_BAL', 'SEX', 'EDUCATION', 'MARRIAGE', 'AGE', 'PAY_1', 'PAY_2',\n",
        "       'PAY_3', 'PAY_4', 'PAY_5', 'PAY_6', 'BILL_AMT1', 'BILL_AMT2',\n",
        "       'BILL_AMT3', 'BILL_AMT4', 'BILL_AMT5', 'BILL_AMT6', 'PAY_AMT1',\n",
        "       'PAY_AMT2', 'PAY_AMT3', 'PAY_AMT4', 'PAY_AMT5', 'PAY_AMT6']"
      ],
      "execution_count": 0,
      "outputs": []
    },
    {
      "cell_type": "code",
      "metadata": {
        "id": "wBET4eQI8S1D",
        "colab_type": "code",
        "colab": {}
      },
      "source": [
        "# Converting string labels into numbers.\n",
        "pre = preprocessing.LabelEncoder()\n",
        "df['SEX']=pre.fit_transform(df['SEX'])\n",
        "df['EDUCATION']=pre.fit_transform(df['EDUCATION'])\n",
        "df['MARRIAGE']=pre.fit_transform(df['MARRIAGE'])\n",
        "df['PAY_1']=pre.fit_transform(df['PAY_1'])\n",
        "df['PAY_2']=pre.fit_transform(df['PAY_2'])\n",
        "df['PAY_3']=pre.fit_transform(df['PAY_3'])\n",
        "df['PAY_4']=pre.fit_transform(df['PAY_4'])\n",
        "df['PAY_5']=pre.fit_transform(df['PAY_5'])\n",
        "df['PAY_6']=pre.fit_transform(df['PAY_6'])"
      ],
      "execution_count": 0,
      "outputs": []
    },
    {
      "cell_type": "code",
      "metadata": {
        "id": "PHL6XaMRvawB",
        "colab_type": "code",
        "outputId": "55f1a05f-0cdf-4190-cebf-b43d605f92dc",
        "colab": {
          "base_uri": "https://localhost:8080/",
          "height": 333
        }
      },
      "source": [
        "from sklearn.ensemble import ExtraTreesClassifier\n",
        "import matplotlib.pyplot as plt\n",
        "model = ExtraTreesClassifier()\n",
        "model.fit(df[features],df['DEFAULT'])\n",
        "print(model.feature_importances_) #use inbuilt class feature_importances of tree based classifiers\n",
        "#plot graph of feature importances for better visualization\n",
        "feat_importances = pd.Series(model.feature_importances_, index=X.columns)\n",
        "feat_importances.nlargest(23).plot(kind='barh')\n",
        "plt.show()"
      ],
      "execution_count": 13,
      "outputs": [
        {
          "output_type": "stream",
          "text": [
            "[0.01005383 0.00139209 0.00207384 0.00149155 0.00338491 0.32663415\n",
            " 0.16572933 0.15406461 0.11776073 0.06863157 0.08760792 0.00836141\n",
            " 0.00534094 0.00480849 0.00403762 0.00396857 0.00385373 0.00675193\n",
            " 0.0057542  0.00453107 0.005093   0.00521276 0.00346175]\n"
          ],
          "name": "stdout"
        },
        {
          "output_type": "display_data",
          "data": {
            "image/png": "[encoded data removed]",
            "text/plain": [
              "<Figure size 432x288 with 1 Axes>"
            ]
          },
          "metadata": {
            "tags": []
          }
        }
      ]
    },
    {
      "cell_type": "code",
      "metadata": {
        "id": "HJgUlWD0fCa4",
        "colab_type": "code",
        "outputId": "5b170ccb-6fc1-4bc9-b11e-32e946c554ee",
        "colab": {
          "base_uri": "https://localhost:8080/",
          "height": 265
        }
      },
      "source": [
        "DEF_0 = [df.SEX.groupby(df.DEFAULT).value_counts()[0][0],df.SEX.groupby(df.DEFAULT).value_counts()[0][1]]\n",
        "DEF_1 = [df.SEX.groupby(df.DEFAULT).value_counts()[1][0],df.SEX.groupby(df.DEFAULT).value_counts()[1][1]]\n",
        "index = ['FEMALE', 'MALE']\n",
        "data1 = pd.DataFrame({'0': DEF_0,\n",
        "                  '1': DEF_1}, index=index)\n",
        "ax = data1.plot.barh()"
      ],
      "execution_count": 14,
      "outputs": [
        {
          "output_type": "display_data",
          "data": {
            "image/png": "[encoded data removed]",
            "text/plain": [
              "<Figure size 432x288 with 1 Axes>"
            ]
          },
          "metadata": {
            "tags": []
          }
        }
      ]
    },
    {
      "cell_type": "code",
      "metadata": {
        "id": "RzCjqab6nsKT",
        "colab_type": "code",
        "outputId": "e8a95568-f450-451e-a6a2-80fa0358e5cb",
        "colab": {
          "base_uri": "https://localhost:8080/",
          "height": 265
        }
      },
      "source": [
        "DEF_0 = [df.MARRIAGE.groupby(df.DEFAULT).value_counts()[0][0],df.MARRIAGE.groupby(df.DEFAULT).value_counts()[0][1],df.MARRIAGE.groupby(df.DEFAULT).value_counts()[0][2]]\n",
        "DEF_1 = [df.MARRIAGE.groupby(df.DEFAULT).value_counts()[1][0],df.MARRIAGE.groupby(df.DEFAULT).value_counts()[1][1],df.MARRIAGE.groupby(df.DEFAULT).value_counts()[1][2]]\n",
        "index = ['MARRIED', 'OTHERS','SINGLE']\n",
        "data2 = pd.DataFrame({'0': DEF_0,\n",
        "                  '1': DEF_1}, index=index)\n",
        "ax = data2.plot.barh()"
      ],
      "execution_count": 15,
      "outputs": [
        {
          "output_type": "display_data",
          "data": {
            "image/png": "[encoded data removed]",
            "text/plain": [
              "<Figure size 432x288 with 1 Axes>"
            ]
          },
          "metadata": {
            "tags": []
          }
        }
      ]
    },
    {
      "cell_type": "code",
      "metadata": {
        "id": "NnNSkb1dnsKv",
        "colab_type": "code",
        "outputId": "83038261-a012-4f6b-db62-9a1533bf71b6",
        "colab": {
          "base_uri": "https://localhost:8080/",
          "height": 265
        }
      },
      "source": [
        "DEF_0 = [df.EDUCATION.groupby(df.DEFAULT).value_counts()[0][0],df.EDUCATION.groupby(df.DEFAULT).value_counts()[0][1],df.EDUCATION.groupby(df.DEFAULT).value_counts()[0][2],df.EDUCATION.groupby(df.DEFAULT).value_counts()[0][3]]\n",
        "DEF_1 = [df.EDUCATION.groupby(df.DEFAULT).value_counts()[1][0],df.EDUCATION.groupby(df.DEFAULT).value_counts()[1][1],df.EDUCATION.groupby(df.DEFAULT).value_counts()[1][2],df.EDUCATION.groupby(df.DEFAULT).value_counts()[1][3]]\n",
        "index = ['GRADUATE SCHOOL', 'HIGH SCHOOL','OTHERS','UNIVERSITY']\n",
        "data3 = pd.DataFrame({'0': DEF_0,\n",
        "                  '1': DEF_1}, index=index)\n",
        "ax = data3.plot.barh()"
      ],
      "execution_count": 16,
      "outputs": [
        {
          "output_type": "display_data",
          "data": {
            "image/png": "[encoded data removed]",
            "text/plain": [
              "<Figure size 432x288 with 1 Axes>"
            ]
          },
          "metadata": {
            "tags": []
          }
        }
      ]
    },
    {
      "cell_type": "code",
      "metadata": {
        "id": "QQiERzLmjE4L",
        "colab_type": "code",
        "colab": {}
      },
      "source": [
        "def draw_barh(df, variables, n_rows, n_cols):\n",
        "    fig=plt.figure()\n",
        "    for i, var_name in enumerate(variables):\n",
        "        ax=fig.add_subplot(n_rows,n_cols,i+1)\n",
        "        df[var_name].value_counts().plot(kind='barh')\n",
        "        ax.set_title(var_name)\n",
        "    fig.tight_layout()  # Improves appearance a bit.\n",
        "    plt.show()"
      ],
      "execution_count": 0,
      "outputs": []
    },
    {
      "cell_type": "code",
      "metadata": {
        "id": "D77sZbQ5bxSk",
        "colab_type": "code",
        "outputId": "3a2ea227-4584-44d6-a7a4-279f96031d46",
        "colab": {
          "base_uri": "https://localhost:8080/",
          "height": 297
        }
      },
      "source": [
        "bills = df[['PAY_1','PAY_2', 'PAY_3', 'PAY_4', 'PAY_5', 'PAY_6']]\n",
        "draw_barh(bills, bills.columns, 2, 3)"
      ],
      "execution_count": 18,
      "outputs": [
        {
          "output_type": "display_data",
          "data": {
            "image/png": "[encoded data removed]",
            "text/plain": [
              "<Figure size 432x288 with 6 Axes>"
            ]
          },
          "metadata": {
            "tags": []
          }
        }
      ]
    },
    {
      "cell_type": "code",
      "metadata": {
        "id": "KsTLq7eg68zP",
        "colab_type": "code",
        "outputId": "3197465b-720e-4a42-e7e4-be041081189d",
        "colab": {
          "base_uri": "https://localhost:8080/",
          "height": 297
        }
      },
      "source": [
        "fil = (df.PAY_1 == 4) |(df.PAY_1 == 5) | (df.PAY_1 == 6) | (df.PAY_1 == 7) | (df.PAY_1 == 8) | (df.PAY_1 == 9) | (df.PAY_1 == 10)\n",
        "df.loc[fil, 'PAY_1'] = 4\n",
        "fil = (df.PAY_2 == 4) |(df.PAY_2 == 5) | (df.PAY_2 == 6) | (df.PAY_2 == 7) | (df.PAY_2 == 8) | (df.PAY_2 == 9) | (df.PAY_2 == 10)\n",
        "df.loc[fil, 'PAY_2'] = 4\n",
        "fil = (df.PAY_3 == 4) |(df.PAY_3 == 5) | (df.PAY_3 == 6) | (df.PAY_3 == 7) | (df.PAY_3 == 8) | (df.PAY_3 == 9) | (df.PAY_3 == 10)\n",
        "df.loc[fil, 'PAY_3'] = 4\n",
        "fil = (df.PAY_4 == 4) |(df.PAY_4 == 5) | (df.PAY_4 == 6) | (df.PAY_4 == 7) | (df.PAY_4 == 8) | (df.PAY_4 == 9) | (df.PAY_4 == 10)\n",
        "df.loc[fil, 'PAY_4'] = 4\n",
        "fil = (df.PAY_5 == 4) |(df.PAY_5 == 5) | (df.PAY_5 == 6) | (df.PAY_5 == 7) | (df.PAY_5 == 8) | (df.PAY_5 == 9) | (df.PAY_5 == 10)\n",
        "df.loc[fil, 'PAY_5'] = 4\n",
        "fil = (df.PAY_6 == 4) |(df.PAY_6 == 5) | (df.PAY_6 == 6) | (df.PAY_6 == 7) | (df.PAY_6 == 8) | (df.PAY_6 == 9) | (df.PAY_6 == 10)\n",
        "df.loc[fil, 'PAY_6'] = 4\n",
        "bills = df[['PAY_1','PAY_2', 'PAY_3', 'PAY_4', 'PAY_5', 'PAY_6']]\n",
        "draw_barh(bills, bills.columns, 2, 3)"
      ],
      "execution_count": 19,
      "outputs": [
        {
          "output_type": "display_data",
          "data": {
            "image/png": "[encoded data removed]",
            "text/plain": [
              "<Figure size 432x288 with 6 Axes>"
            ]
          },
          "metadata": {
            "tags": []
          }
        }
      ]
    },
    {
      "cell_type": "code",
      "metadata": {
        "id": "I_sZl89ynsK2",
        "colab_type": "code",
        "colab": {}
      },
      "source": [
        "def draw_histograms(df, variables, n_rows, n_cols, n_bins,title):\n",
        "    fig=plt.figure()\n",
        "    for i, var_name in enumerate(variables):\n",
        "        ax=fig.add_subplot(n_rows,n_cols,i+1)\n",
        "        df[var_name].hist(bins=n_bins,ax=ax)\n",
        "        ax.set_title(var_name)\n",
        "    fig.tight_layout()  # Improves appearance a bit.\n",
        "    plt.show()"
      ],
      "execution_count": 0,
      "outputs": []
    },
    {
      "cell_type": "code",
      "metadata": {
        "id": "hnbH-48KnsK7",
        "colab_type": "code",
        "outputId": "fb04c782-ce2c-4344-8745-d47f366ff5f1",
        "colab": {
          "base_uri": "https://localhost:8080/",
          "height": 297
        }
      },
      "source": [
        "bills = df[['BILL_AMT1','BILL_AMT2', 'BILL_AMT3', 'BILL_AMT4', 'BILL_AMT5', 'BILL_AMT6']]\n",
        "draw_histograms(bills, bills.columns, 2, 3, 20,'BILL AMOUNT')"
      ],
      "execution_count": 21,
      "outputs": [
        {
          "output_type": "display_data",
          "data": {
            "image/png": "[encoded data removed]",
            "text/plain": [
              "<Figure size 432x288 with 6 Axes>"
            ]
          },
          "metadata": {
            "tags": []
          }
        }
      ]
    },
    {
      "cell_type": "code",
      "metadata": {
        "id": "UxjrthsynsLD",
        "colab_type": "code",
        "outputId": "ebbfb986-2e0e-4297-b3c6-698c17cf05a2",
        "colab": {
          "base_uri": "https://localhost:8080/",
          "height": 298
        }
      },
      "source": [
        "df.groupby(df.DEFAULT).AGE.plot.hist()\n",
        "plt.legend(loc=\"upper right\")\n",
        "plt.title('AGE')"
      ],
      "execution_count": 22,
      "outputs": [
        {
          "output_type": "execute_result",
          "data": {
            "text/plain": [
              "Text(0.5, 1.0, 'AGE')"
            ]
          },
          "metadata": {
            "tags": []
          },
          "execution_count": 22
        },
        {
          "output_type": "display_data",
          "data": {
            "image/png": "[encoded data removed]",
            "text/plain": [
              "<Figure size 432x288 with 1 Axes>"
            ]
          },
          "metadata": {
            "tags": []
          }
        }
      ]
    },
    {
      "cell_type": "code",
      "metadata": {
        "id": "F8eA7_JznsLF",
        "colab_type": "code",
        "outputId": "d2a41c1f-f579-4e51-80ce-6eefcea2bc42",
        "colab": {
          "base_uri": "https://localhost:8080/",
          "height": 298
        }
      },
      "source": [
        "df.groupby(df.DEFAULT).LIMIT_BAL.plot.hist()\n",
        "plt.legend(loc=\"upper right\")\n",
        "plt.title('LIMIT BALANCE')\n"
      ],
      "execution_count": 23,
      "outputs": [
        {
          "output_type": "execute_result",
          "data": {
            "text/plain": [
              "Text(0.5, 1.0, 'LIMIT BALANCE')"
            ]
          },
          "metadata": {
            "tags": []
          },
          "execution_count": 23
        },
        {
          "output_type": "display_data",
          "data": {
            "image/png": "[encoded data removed]",
            "text/plain": [
              "<Figure size 432x288 with 1 Axes>"
            ]
          },
          "metadata": {
            "tags": []
          }
        }
      ]
    },
    {
      "cell_type": "code",
      "metadata": {
        "id": "cKaFHwL_8gFM",
        "colab_type": "code",
        "outputId": "4f152f88-dbb4-4f12-f6e1-d9bf137a4ac2",
        "colab": {
          "base_uri": "https://localhost:8080/",
          "height": 298
        }
      },
      "source": [
        "df.DEFAULT.value_counts().plot.barh()\n",
        "plt.title('DEFAULT')"
      ],
      "execution_count": 24,
      "outputs": [
        {
          "output_type": "execute_result",
          "data": {
            "text/plain": [
              "Text(0.5, 1.0, 'DEFAULT')"
            ]
          },
          "metadata": {
            "tags": []
          },
          "execution_count": 24
        },
        {
          "output_type": "display_data",
          "data": {
            "image/png": "[encoded data removed]",
            "text/plain": [
              "<Figure size 432x288 with 1 Axes>"
            ]
          },
          "metadata": {
            "tags": []
          }
        }
      ]
    },
    {
      "cell_type": "code",
      "metadata": {
        "id": "yr1HmC7PAjje",
        "colab_type": "code",
        "colab": {}
      },
      "source": [
        "X = df[features].copy()\n",
        "X.columns\n",
        "\n",
        "y = df['DEFAULT'].copy()"
      ],
      "execution_count": 0,
      "outputs": []
    },
    {
      "cell_type": "code",
      "metadata": {
        "id": "P0GIz7t58c2e",
        "colab_type": "code",
        "outputId": "c23ac734-3770-4181-feb5-30dd8565d8e7",
        "colab": {
          "base_uri": "https://localhost:8080/",
          "height": 510
        }
      },
      "source": [
        "X_train, X_test, y_train, y_test = train_test_split(X, y, test_size=0.2, random_state=0)\n",
        "df_train = X_train.join(y_train)\n",
        "\n",
        "print(df.DEFAULT.describe())\n",
        "print(\"---------------------------\")\n",
        "print(y_train.describe())\n",
        "print(\"---------------------------\")\n",
        "print(y_test.describe())"
      ],
      "execution_count": 27,
      "outputs": [
        {
          "output_type": "stream",
          "text": [
            "count    24000.000000\n",
            "mean         0.335625\n",
            "std          0.472218\n",
            "min          0.000000\n",
            "25%          0.000000\n",
            "50%          0.000000\n",
            "75%          1.000000\n",
            "max          1.000000\n",
            "Name: DEFAULT, dtype: float64\n",
            "---------------------------\n",
            "count    19200.000000\n",
            "mean         0.335938\n",
            "std          0.472329\n",
            "min          0.000000\n",
            "25%          0.000000\n",
            "50%          0.000000\n",
            "75%          1.000000\n",
            "max          1.000000\n",
            "Name: DEFAULT, dtype: float64\n",
            "---------------------------\n",
            "count    4800.000000\n",
            "mean        0.334375\n",
            "std         0.471821\n",
            "min         0.000000\n",
            "25%         0.000000\n",
            "50%         0.000000\n",
            "75%         1.000000\n",
            "max         1.000000\n",
            "Name: DEFAULT, dtype: float64\n"
          ],
          "name": "stdout"
        }
      ]
    },
    {
      "cell_type": "code",
      "metadata": {
        "id": "5Bb3hJRTJxaX",
        "colab_type": "code",
        "outputId": "d68fe01b-9acb-42b8-a63b-86ac14f84b0c",
        "colab": {
          "base_uri": "https://localhost:8080/",
          "height": 450
        }
      },
      "source": [
        "feature_new=['PAY_1', 'PAY_2',\n",
        "       'PAY_3', 'PAY_4', 'PAY_5', 'PAY_6']\n",
        "\n",
        "X_train=X_train[feature_new]\n",
        "X_test=X_test[feature_new]\n",
        "X_test"
      ],
      "execution_count": 28,
      "outputs": [
        {
          "output_type": "execute_result",
          "data": {
            "text/html": [
              "<div>\n",
              "<style scoped>\n",
              "    .dataframe tbody tr th:only-of-type {\n",
              "        vertical-align: middle;\n",
              "    }\n",
              "\n",
              "    .dataframe tbody tr th {\n",
              "        vertical-align: top;\n",
              "    }\n",
              "\n",
              "    .dataframe thead th {\n",
              "        text-align: right;\n",
              "    }\n",
              "</style>\n",
              "<table border=\"1\" class=\"dataframe\">\n",
              "  <thead>\n",
              "    <tr style=\"text-align: right;\">\n",
              "      <th></th>\n",
              "      <th>PAY_1</th>\n",
              "      <th>PAY_2</th>\n",
              "      <th>PAY_3</th>\n",
              "      <th>PAY_4</th>\n",
              "      <th>PAY_5</th>\n",
              "      <th>PAY_6</th>\n",
              "    </tr>\n",
              "    <tr>\n",
              "      <th>ID</th>\n",
              "      <th></th>\n",
              "      <th></th>\n",
              "      <th></th>\n",
              "      <th></th>\n",
              "      <th></th>\n",
              "      <th></th>\n",
              "    </tr>\n",
              "  </thead>\n",
              "  <tbody>\n",
              "    <tr>\n",
              "      <th>3917</th>\n",
              "      <td>4</td>\n",
              "      <td>2</td>\n",
              "      <td>2</td>\n",
              "      <td>2</td>\n",
              "      <td>2</td>\n",
              "      <td>2</td>\n",
              "    </tr>\n",
              "    <tr>\n",
              "      <th>8422</th>\n",
              "      <td>2</td>\n",
              "      <td>2</td>\n",
              "      <td>2</td>\n",
              "      <td>2</td>\n",
              "      <td>1</td>\n",
              "      <td>2</td>\n",
              "    </tr>\n",
              "    <tr>\n",
              "      <th>12235</th>\n",
              "      <td>2</td>\n",
              "      <td>2</td>\n",
              "      <td>4</td>\n",
              "      <td>2</td>\n",
              "      <td>2</td>\n",
              "      <td>2</td>\n",
              "    </tr>\n",
              "    <tr>\n",
              "      <th>18659</th>\n",
              "      <td>4</td>\n",
              "      <td>4</td>\n",
              "      <td>4</td>\n",
              "      <td>4</td>\n",
              "      <td>3</td>\n",
              "      <td>3</td>\n",
              "    </tr>\n",
              "    <tr>\n",
              "      <th>16552</th>\n",
              "      <td>3</td>\n",
              "      <td>1</td>\n",
              "      <td>1</td>\n",
              "      <td>1</td>\n",
              "      <td>2</td>\n",
              "      <td>1</td>\n",
              "    </tr>\n",
              "    <tr>\n",
              "      <th>...</th>\n",
              "      <td>...</td>\n",
              "      <td>...</td>\n",
              "      <td>...</td>\n",
              "      <td>...</td>\n",
              "      <td>...</td>\n",
              "      <td>...</td>\n",
              "    </tr>\n",
              "    <tr>\n",
              "      <th>887</th>\n",
              "      <td>0</td>\n",
              "      <td>0</td>\n",
              "      <td>0</td>\n",
              "      <td>0</td>\n",
              "      <td>0</td>\n",
              "      <td>0</td>\n",
              "    </tr>\n",
              "    <tr>\n",
              "      <th>329</th>\n",
              "      <td>0</td>\n",
              "      <td>1</td>\n",
              "      <td>1</td>\n",
              "      <td>0</td>\n",
              "      <td>0</td>\n",
              "      <td>0</td>\n",
              "    </tr>\n",
              "    <tr>\n",
              "      <th>5189</th>\n",
              "      <td>4</td>\n",
              "      <td>4</td>\n",
              "      <td>4</td>\n",
              "      <td>4</td>\n",
              "      <td>3</td>\n",
              "      <td>3</td>\n",
              "    </tr>\n",
              "    <tr>\n",
              "      <th>29914</th>\n",
              "      <td>1</td>\n",
              "      <td>1</td>\n",
              "      <td>2</td>\n",
              "      <td>2</td>\n",
              "      <td>2</td>\n",
              "      <td>2</td>\n",
              "    </tr>\n",
              "    <tr>\n",
              "      <th>22271</th>\n",
              "      <td>2</td>\n",
              "      <td>2</td>\n",
              "      <td>2</td>\n",
              "      <td>2</td>\n",
              "      <td>2</td>\n",
              "      <td>2</td>\n",
              "    </tr>\n",
              "  </tbody>\n",
              "</table>\n",
              "<p>4800 rows × 6 columns</p>\n",
              "</div>"
            ],
            "text/plain": [
              "       PAY_1  PAY_2  PAY_3  PAY_4  PAY_5  PAY_6\n",
              "ID                                             \n",
              "3917       4      2      2      2      2      2\n",
              "8422       2      2      2      2      1      2\n",
              "12235      2      2      4      2      2      2\n",
              "18659      4      4      4      4      3      3\n",
              "16552      3      1      1      1      2      1\n",
              "...      ...    ...    ...    ...    ...    ...\n",
              "887        0      0      0      0      0      0\n",
              "329        0      1      1      0      0      0\n",
              "5189       4      4      4      4      3      3\n",
              "29914      1      1      2      2      2      2\n",
              "22271      2      2      2      2      2      2\n",
              "\n",
              "[4800 rows x 6 columns]"
            ]
          },
          "metadata": {
            "tags": []
          },
          "execution_count": 28
        }
      ]
    },
    {
      "cell_type": "code",
      "metadata": {
        "id": "39AN-5gYtXKK",
        "colab_type": "code",
        "colab": {}
      },
      "source": [
        "scaler=StandardScaler()\n",
        "scaler.fit(X_train)\n",
        "X_train=scaler.transform(X_train)\n",
        "X_test=scaler.transform(X_test)"
      ],
      "execution_count": 0,
      "outputs": []
    },
    {
      "cell_type": "code",
      "metadata": {
        "id": "ia9rQxzvtP7r",
        "colab_type": "code",
        "outputId": "ed0d23ae-78cc-43fe-9417-144c963011f4",
        "colab": {
          "base_uri": "https://localhost:8080/",
          "height": 187
        }
      },
      "source": [
        "#RANDOMFOREST\n",
        "param_grid = {'criterion' : ['gini','entropy'],'max_depth':[5,10,20,100],\n",
        "             'max_leaf_nodes': [5,10,20,100],\n",
        "             'min_samples_split': [5, 10, 20,100],'warm_start':[True,False]}\n",
        "\n",
        "grid_rf= GridSearchCV(RandomForestClassifier(), param_grid, cv = 5, scoring='accuracy',n_jobs=-1,verbose=1)\n",
        "\n",
        "grid_rf.fit(X_train, y_train)\n",
        "rf=grid_rf.best_estimator_\n",
        "rf=rf.fit(X_train,y_train)"
      ],
      "execution_count": 0,
      "outputs": [
        {
          "output_type": "stream",
          "text": [
            "Fitting 5 folds for each of 256 candidates, totalling 1280 fits\n"
          ],
          "name": "stdout"
        },
        {
          "output_type": "stream",
          "text": [
            "[Parallel(n_jobs=-1)]: Using backend LokyBackend with 2 concurrent workers.\n",
            "[Parallel(n_jobs=-1)]: Done  46 tasks      | elapsed:   18.6s\n",
            "[Parallel(n_jobs=-1)]: Done 196 tasks      | elapsed:  1.2min\n",
            "[Parallel(n_jobs=-1)]: Done 446 tasks      | elapsed:  2.9min\n",
            "[Parallel(n_jobs=-1)]: Done 796 tasks      | elapsed:  5.2min\n",
            "[Parallel(n_jobs=-1)]: Done 1246 tasks      | elapsed:  8.2min\n",
            "[Parallel(n_jobs=-1)]: Done 1280 out of 1280 | elapsed:  8.4min finished\n",
            "/usr/local/lib/python3.6/dist-packages/sklearn/ensemble/_forest.py:359: UserWarning: Warm-start fitting without increasing n_estimators does not fit new trees.\n",
            "  warn(\"Warm-start fitting without increasing n_estimators does not \"\n"
          ],
          "name": "stderr"
        }
      ]
    },
    {
      "cell_type": "code",
      "metadata": {
        "id": "YbEIyxtgQrwo",
        "colab_type": "code",
        "outputId": "91b67718-4dbe-42de-9947-1b485e95c0d9",
        "colab": {
          "base_uri": "https://localhost:8080/",
          "height": 153
        }
      },
      "source": [
        "grid_rf.best_estimator_"
      ],
      "execution_count": 0,
      "outputs": [
        {
          "output_type": "execute_result",
          "data": {
            "text/plain": [
              "RandomForestClassifier(bootstrap=True, ccp_alpha=0.0, class_weight=None,\n",
              "                       criterion='gini', max_depth=5, max_features='auto',\n",
              "                       max_leaf_nodes=10, max_samples=None,\n",
              "                       min_impurity_decrease=0.0, min_impurity_split=None,\n",
              "                       min_samples_leaf=1, min_samples_split=5,\n",
              "                       min_weight_fraction_leaf=0.0, n_estimators=100,\n",
              "                       n_jobs=None, oob_score=False, random_state=None,\n",
              "                       verbose=0, warm_start=True)"
            ]
          },
          "metadata": {
            "tags": []
          },
          "execution_count": 331
        }
      ]
    },
    {
      "cell_type": "code",
      "metadata": {
        "id": "KuWTU5sQ5Yn2",
        "colab_type": "code",
        "outputId": "1cb3550b-c5ea-429f-85d1-349786b80eb9",
        "colab": {
          "base_uri": "https://localhost:8080/",
          "height": 235
        }
      },
      "source": [
        "def get_feature_importance(clsf, ftrs):\n",
        "    imp = clsf.feature_importances_.tolist()\n",
        "    feat = ftrs\n",
        "    result = pd.DataFrame({'feat':feat,'score':imp})\n",
        "    result = result.sort_values(by=['score'],ascending=False)\n",
        "    return result\n",
        "get_feature_importance(rf,feature_new)"
      ],
      "execution_count": 0,
      "outputs": [
        {
          "output_type": "execute_result",
          "data": {
            "text/html": [
              "<div>\n",
              "<style scoped>\n",
              "    .dataframe tbody tr th:only-of-type {\n",
              "        vertical-align: middle;\n",
              "    }\n",
              "\n",
              "    .dataframe tbody tr th {\n",
              "        vertical-align: top;\n",
              "    }\n",
              "\n",
              "    .dataframe thead th {\n",
              "        text-align: right;\n",
              "    }\n",
              "</style>\n",
              "<table border=\"1\" class=\"dataframe\">\n",
              "  <thead>\n",
              "    <tr style=\"text-align: right;\">\n",
              "      <th></th>\n",
              "      <th>feat</th>\n",
              "      <th>score</th>\n",
              "    </tr>\n",
              "  </thead>\n",
              "  <tbody>\n",
              "    <tr>\n",
              "      <th>0</th>\n",
              "      <td>PAY_1</td>\n",
              "      <td>0.458949</td>\n",
              "    </tr>\n",
              "    <tr>\n",
              "      <th>2</th>\n",
              "      <td>PAY_3</td>\n",
              "      <td>0.174530</td>\n",
              "    </tr>\n",
              "    <tr>\n",
              "      <th>1</th>\n",
              "      <td>PAY_2</td>\n",
              "      <td>0.130500</td>\n",
              "    </tr>\n",
              "    <tr>\n",
              "      <th>5</th>\n",
              "      <td>PAY_6</td>\n",
              "      <td>0.099453</td>\n",
              "    </tr>\n",
              "    <tr>\n",
              "      <th>3</th>\n",
              "      <td>PAY_4</td>\n",
              "      <td>0.096018</td>\n",
              "    </tr>\n",
              "    <tr>\n",
              "      <th>4</th>\n",
              "      <td>PAY_5</td>\n",
              "      <td>0.040550</td>\n",
              "    </tr>\n",
              "  </tbody>\n",
              "</table>\n",
              "</div>"
            ],
            "text/plain": [
              "    feat     score\n",
              "0  PAY_1  0.458949\n",
              "2  PAY_3  0.174530\n",
              "1  PAY_2  0.130500\n",
              "5  PAY_6  0.099453\n",
              "3  PAY_4  0.096018\n",
              "4  PAY_5  0.040550"
            ]
          },
          "metadata": {
            "tags": []
          },
          "execution_count": 332
        }
      ]
    },
    {
      "cell_type": "code",
      "metadata": {
        "id": "d5nd_L2U-fVu",
        "colab_type": "code",
        "outputId": "78b3a201-f81d-4b48-cbb6-a65f46215f1a",
        "colab": {
          "base_uri": "https://localhost:8080/",
          "height": 340
        }
      },
      "source": [
        "predictions = rf.predict(X_test)\n",
        "print(classification_report(y_test,predictions))"
      ],
      "execution_count": 0,
      "outputs": [
        {
          "output_type": "stream",
          "text": [
            "              precision    recall  f1-score   support\n",
            "\n",
            "           0       1.00      1.00      1.00      3195\n",
            "           1       1.00      1.00      1.00      1605\n",
            "\n",
            "    accuracy                           1.00      4800\n",
            "   macro avg       1.00      1.00      1.00      4800\n",
            "weighted avg       1.00      1.00      1.00      4800\n",
            "\n",
            "              precision    recall  f1-score   support\n",
            "\n",
            "           0       0.87      0.76      0.82      4627\n",
            "           1       0.44      0.62      0.52      1373\n",
            "\n",
            "    accuracy                           0.73      6000\n",
            "   macro avg       0.66      0.69      0.67      6000\n",
            "weighted avg       0.77      0.73      0.75      6000\n",
            "\n"
          ],
          "name": "stdout"
        },
        {
          "output_type": "execute_result",
          "data": {
            "text/plain": [
              "0.7428333333333333"
            ]
          },
          "metadata": {
            "tags": []
          },
          "execution_count": 353
        }
      ]
    },
    {
      "cell_type": "code",
      "metadata": {
        "id": "4c1xz3fp1eA0",
        "colab_type": "code",
        "outputId": "1e8e1ac0-63ee-4c46-b7a4-146072b2973d",
        "colab": {
          "base_uri": "https://localhost:8080/",
          "height": 34
        }
      },
      "source": [
        "# True Positive (TP): we predict a label of 1 (positive), and the true label is 1.\n",
        "TP = np.sum(np.logical_and(predictions == 1, y_test == 1))\n",
        " \n",
        "# True Negative (TN): we predict a label of 0 (negative), and the true label is 0.\n",
        "TN = np.sum(np.logical_and(predictions == 0, y_test == 0))\n",
        " \n",
        "# False Positive (FP): we predict a label of 1 (positive), but the true label is 0.\n",
        "FP = np.sum(np.logical_and(predictions == 1, y_test == 0))\n",
        " \n",
        "# False Negative (FN): we predict a label of 0 (negative), but the true label is 1.\n",
        "FN = np.sum(np.logical_and(predictions == 0, y_test == 1))\n",
        " \n",
        "print('TP: {}, FP: {}, TN: {}, FN: {}'.format(TP,FP,TN,FN))"
      ],
      "execution_count": 0,
      "outputs": [
        {
          "output_type": "stream",
          "text": [
            "TP: 1605, FP: 0, TN: 3195, FN: 0\n"
          ],
          "name": "stdout"
        }
      ]
    },
    {
      "cell_type": "code",
      "metadata": {
        "id": "mVYCi_XY4jSi",
        "colab_type": "code",
        "outputId": "e594dc05-a30d-478d-f30d-d857ddd31387",
        "colab": {
          "base_uri": "https://localhost:8080/",
          "height": 296
        }
      },
      "source": [
        "y_prob=rf.predict_proba(dt[feature_new])[:, 1]\n",
        "print(roc_auc_score(y_new,y_prob))\n",
        "dt1,dt2,_=roc_curve(y_new,y_prob)\n",
        "plt.plot(dt1, dt2, marker='.', label='Random Forest')\n",
        "plt.xlabel('False Positive Rate')\n",
        "plt.ylabel('True Positive Rate')\n",
        "# show the legend\n",
        "plt.legend()\n",
        "# show the plot\n",
        "plt.show()"
      ],
      "execution_count": 0,
      "outputs": [
        {
          "output_type": "stream",
          "text": [
            "0.7139325668662249\n"
          ],
          "name": "stdout"
        },
        {
          "output_type": "display_data",
          "data": {
            "image/png": "[encoded data removed]",
            "text/plain": [
              "<Figure size 432x288 with 1 Axes>"
            ]
          },
          "metadata": {
            "tags": []
          }
        }
      ]
    },
    {
      "cell_type": "code",
      "metadata": {
        "id": "chkd4rHPnsMH",
        "colab_type": "code",
        "outputId": "d5a21ca6-b888-42d4-fcfb-b5db37265fea",
        "colab": {
          "base_uri": "https://localhost:8080/",
          "height": 136
        }
      },
      "source": [
        "# Separate majority and minority classes\n",
        "df_majority = df_train[df_train.DEFAULT==0]\n",
        "df_minority = df_train[df_train.DEFAULT==1]\n",
        "print(df_majority.DEFAULT.count())\n",
        "print(\"-----------\")\n",
        "print(df_minority.DEFAULT.count())\n",
        "print(\"-----------\")\n",
        "print(df_train.DEFAULT.value_counts())"
      ],
      "execution_count": 0,
      "outputs": [
        {
          "output_type": "stream",
          "text": [
            "12750\n",
            "-----------\n",
            "6450\n",
            "-----------\n",
            "0    12750\n",
            "1     6450\n",
            "Name: DEFAULT, dtype: int64\n"
          ],
          "name": "stdout"
        }
      ]
    },
    {
      "cell_type": "code",
      "metadata": {
        "id": "TEXdD49UnsMK",
        "colab_type": "code",
        "outputId": "490bd66c-5a70-4583-8d64-dd7203af54a1",
        "colab": {
          "base_uri": "https://localhost:8080/",
          "height": 255
        }
      },
      "source": [
        "# Upsample minority class\n",
        "df_minority_upsampled = resample(df_minority, \n",
        "                                 replace=True,     # sample with replacement\n",
        "                                 n_samples=14350,    # to match majority class\n",
        "                                 random_state=587) # reproducible results\n",
        "# Combine majority class with upsampled minority class\n",
        "df_upsampled = pd.concat([df_majority, df_minority_upsampled])\n",
        "# Display new class counts\n",
        "df_upsampled.DEFAULT.value_counts()\n",
        "y_upsampled = df_upsampled.DEFAULT\n",
        "X_upsampled = df_upsampled.drop(['DEFAULT'], axis= 1)[feature_new]\n",
        "df_upsampled.head()"
      ],
      "execution_count": 0,
      "outputs": [
        {
          "output_type": "execute_result",
          "data": {
            "text/html": [
              "<div>\n",
              "<style scoped>\n",
              "    .dataframe tbody tr th:only-of-type {\n",
              "        vertical-align: middle;\n",
              "    }\n",
              "\n",
              "    .dataframe tbody tr th {\n",
              "        vertical-align: top;\n",
              "    }\n",
              "\n",
              "    .dataframe thead th {\n",
              "        text-align: right;\n",
              "    }\n",
              "</style>\n",
              "<table border=\"1\" class=\"dataframe\">\n",
              "  <thead>\n",
              "    <tr style=\"text-align: right;\">\n",
              "      <th></th>\n",
              "      <th>LIMIT_BAL</th>\n",
              "      <th>SEX</th>\n",
              "      <th>EDUCATION</th>\n",
              "      <th>MARRIAGE</th>\n",
              "      <th>AGE</th>\n",
              "      <th>PAY_1</th>\n",
              "      <th>PAY_2</th>\n",
              "      <th>PAY_3</th>\n",
              "      <th>PAY_4</th>\n",
              "      <th>PAY_5</th>\n",
              "      <th>PAY_6</th>\n",
              "      <th>BILL_AMT1</th>\n",
              "      <th>BILL_AMT2</th>\n",
              "      <th>BILL_AMT3</th>\n",
              "      <th>BILL_AMT4</th>\n",
              "      <th>BILL_AMT5</th>\n",
              "      <th>BILL_AMT6</th>\n",
              "      <th>PAY_AMT1</th>\n",
              "      <th>PAY_AMT2</th>\n",
              "      <th>PAY_AMT3</th>\n",
              "      <th>PAY_AMT4</th>\n",
              "      <th>PAY_AMT5</th>\n",
              "      <th>PAY_AMT6</th>\n",
              "      <th>DEFAULT</th>\n",
              "    </tr>\n",
              "    <tr>\n",
              "      <th>ID</th>\n",
              "      <th></th>\n",
              "      <th></th>\n",
              "      <th></th>\n",
              "      <th></th>\n",
              "      <th></th>\n",
              "      <th></th>\n",
              "      <th></th>\n",
              "      <th></th>\n",
              "      <th></th>\n",
              "      <th></th>\n",
              "      <th></th>\n",
              "      <th></th>\n",
              "      <th></th>\n",
              "      <th></th>\n",
              "      <th></th>\n",
              "      <th></th>\n",
              "      <th></th>\n",
              "      <th></th>\n",
              "      <th></th>\n",
              "      <th></th>\n",
              "      <th></th>\n",
              "      <th></th>\n",
              "      <th></th>\n",
              "      <th></th>\n",
              "    </tr>\n",
              "  </thead>\n",
              "  <tbody>\n",
              "    <tr>\n",
              "      <th>26209</th>\n",
              "      <td>310000.0</td>\n",
              "      <td>0</td>\n",
              "      <td>0</td>\n",
              "      <td>0</td>\n",
              "      <td>43</td>\n",
              "      <td>0</td>\n",
              "      <td>0</td>\n",
              "      <td>0</td>\n",
              "      <td>0</td>\n",
              "      <td>0</td>\n",
              "      <td>0</td>\n",
              "      <td>66140.0</td>\n",
              "      <td>66637.0</td>\n",
              "      <td>68131.0</td>\n",
              "      <td>68585.0</td>\n",
              "      <td>68657.0</td>\n",
              "      <td>55457.0</td>\n",
              "      <td>6000.0</td>\n",
              "      <td>10000.0</td>\n",
              "      <td>3018.0</td>\n",
              "      <td>4000.0</td>\n",
              "      <td>3000.0</td>\n",
              "      <td>3000.0</td>\n",
              "      <td>0</td>\n",
              "    </tr>\n",
              "    <tr>\n",
              "      <th>23625</th>\n",
              "      <td>410000.0</td>\n",
              "      <td>0</td>\n",
              "      <td>0</td>\n",
              "      <td>2</td>\n",
              "      <td>31</td>\n",
              "      <td>0</td>\n",
              "      <td>0</td>\n",
              "      <td>0</td>\n",
              "      <td>0</td>\n",
              "      <td>0</td>\n",
              "      <td>0</td>\n",
              "      <td>134072.0</td>\n",
              "      <td>133604.0</td>\n",
              "      <td>133882.0</td>\n",
              "      <td>135954.0</td>\n",
              "      <td>134250.0</td>\n",
              "      <td>129971.0</td>\n",
              "      <td>15003.0</td>\n",
              "      <td>15877.0</td>\n",
              "      <td>30000.0</td>\n",
              "      <td>14250.0</td>\n",
              "      <td>9971.0</td>\n",
              "      <td>27380.0</td>\n",
              "      <td>0</td>\n",
              "    </tr>\n",
              "    <tr>\n",
              "      <th>25532</th>\n",
              "      <td>200000.0</td>\n",
              "      <td>0</td>\n",
              "      <td>0</td>\n",
              "      <td>0</td>\n",
              "      <td>34</td>\n",
              "      <td>-2</td>\n",
              "      <td>-2</td>\n",
              "      <td>-2</td>\n",
              "      <td>-2</td>\n",
              "      <td>-2</td>\n",
              "      <td>-2</td>\n",
              "      <td>0.0</td>\n",
              "      <td>0.0</td>\n",
              "      <td>0.0</td>\n",
              "      <td>0.0</td>\n",
              "      <td>0.0</td>\n",
              "      <td>0.0</td>\n",
              "      <td>0.0</td>\n",
              "      <td>0.0</td>\n",
              "      <td>0.0</td>\n",
              "      <td>0.0</td>\n",
              "      <td>0.0</td>\n",
              "      <td>0.0</td>\n",
              "      <td>0</td>\n",
              "    </tr>\n",
              "    <tr>\n",
              "      <th>83</th>\n",
              "      <td>60000.0</td>\n",
              "      <td>1</td>\n",
              "      <td>1</td>\n",
              "      <td>2</td>\n",
              "      <td>30</td>\n",
              "      <td>0</td>\n",
              "      <td>0</td>\n",
              "      <td>0</td>\n",
              "      <td>0</td>\n",
              "      <td>0</td>\n",
              "      <td>0</td>\n",
              "      <td>26324.0</td>\n",
              "      <td>27471.0</td>\n",
              "      <td>28108.0</td>\n",
              "      <td>21993.0</td>\n",
              "      <td>19899.0</td>\n",
              "      <td>19771.0</td>\n",
              "      <td>1576.0</td>\n",
              "      <td>1213.0</td>\n",
              "      <td>648.0</td>\n",
              "      <td>768.0</td>\n",
              "      <td>1140.0</td>\n",
              "      <td>0.0</td>\n",
              "      <td>0</td>\n",
              "    </tr>\n",
              "    <tr>\n",
              "      <th>29809</th>\n",
              "      <td>250000.0</td>\n",
              "      <td>1</td>\n",
              "      <td>0</td>\n",
              "      <td>0</td>\n",
              "      <td>34</td>\n",
              "      <td>0</td>\n",
              "      <td>0</td>\n",
              "      <td>0</td>\n",
              "      <td>0</td>\n",
              "      <td>0</td>\n",
              "      <td>0</td>\n",
              "      <td>6035.0</td>\n",
              "      <td>11782.0</td>\n",
              "      <td>7241.0</td>\n",
              "      <td>7277.0</td>\n",
              "      <td>4972.0</td>\n",
              "      <td>2609.0</td>\n",
              "      <td>1131.0</td>\n",
              "      <td>4000.0</td>\n",
              "      <td>3000.0</td>\n",
              "      <td>99.0</td>\n",
              "      <td>1000.0</td>\n",
              "      <td>6000.0</td>\n",
              "      <td>0</td>\n",
              "    </tr>\n",
              "  </tbody>\n",
              "</table>\n",
              "</div>"
            ],
            "text/plain": [
              "       LIMIT_BAL  SEX  EDUCATION  ...  PAY_AMT5  PAY_AMT6  DEFAULT\n",
              "ID                                ...                             \n",
              "26209   310000.0    0          0  ...    3000.0    3000.0        0\n",
              "23625   410000.0    0          0  ...    9971.0   27380.0        0\n",
              "25532   200000.0    0          0  ...       0.0       0.0        0\n",
              "83       60000.0    1          1  ...    1140.0       0.0        0\n",
              "29809   250000.0    1          0  ...    1000.0    6000.0        0\n",
              "\n",
              "[5 rows x 24 columns]"
            ]
          },
          "metadata": {
            "tags": []
          },
          "execution_count": 197
        }
      ]
    },
    {
      "cell_type": "code",
      "metadata": {
        "id": "gJn4q2e3nsMO",
        "colab_type": "code",
        "colab": {}
      },
      "source": [
        "# Downsample majority class\n",
        "df_majority_downsampled = resample(df_majority, \n",
        "                                 replace=False,    # sample without replacement\n",
        "                                 n_samples=7250,     # to match minority class\n",
        "                                 random_state=587) # reproducible results\n",
        "# Combine minority class with downsampled majority class\n",
        "df_downsampled = pd.concat([df_majority_downsampled, df_minority])\n",
        "# Display new class counts\n",
        "df_downsampled.DEFAULT.value_counts()\n",
        "\n",
        "y_downsampled = df_downsampled.DEFAULT\n",
        "X_downsampled = df_downsampled.drop(['DEFAULT'], axis = 1)[feature_new]"
      ],
      "execution_count": 0,
      "outputs": []
    },
    {
      "cell_type": "code",
      "metadata": {
        "id": "lHnKubGjnsMQ",
        "colab_type": "code",
        "outputId": "c1d13b74-bbf0-4d5c-9ace-ec60b2094a31",
        "colab": {
          "base_uri": "https://localhost:8080/",
          "height": 71
        }
      },
      "source": [
        "from imblearn.over_sampling import SMOTE\n",
        "sm = SMOTE(random_state=589, ratio = 1.0)\n",
        "X_SMOTE, y_SMOTE = sm.fit_sample(X_train, y_train)"
      ],
      "execution_count": 0,
      "outputs": [
        {
          "output_type": "stream",
          "text": [
            "/usr/local/lib/python3.6/dist-packages/sklearn/utils/deprecation.py:87: FutureWarning: Function safe_indexing is deprecated; safe_indexing is deprecated in version 0.22 and will be removed in version 0.24.\n",
            "  warnings.warn(msg, category=FutureWarning)\n"
          ],
          "name": "stderr"
        }
      ]
    },
    {
      "cell_type": "code",
      "metadata": {
        "id": "qsvRC4FAnsMu",
        "colab_type": "code",
        "colab": {}
      },
      "source": [
        "#kNN\n",
        "from sklearn.neighbors import KNeighborsClassifier\n",
        "from sklearn.model_selection import GridSearchCV,cross_val_score\n",
        "grid_params={'n_neighbors':[149],'weights':['uniform'],'metric':['euclidian']}\n",
        "knn=KNeighborsClassifier()\n",
        "gs=GridSearchCV(knn,grid_params,verbose=1,cv=4,n_jobs=-1,scoring='accuracy')\n",
        "gs_results=gs.fit(X_train,y_train)"
      ],
      "execution_count": 0,
      "outputs": []
    },
    {
      "cell_type": "code",
      "metadata": {
        "id": "vGIMaySonsM0",
        "colab_type": "code",
        "outputId": "6ebaea0f-0953-42dd-c896-2ec2fa058732",
        "colab": {
          "base_uri": "https://localhost:8080/",
          "height": 34
        }
      },
      "source": [
        "gs_results.best_score_\n",
        "gs_results.best_estimator_\n",
        "gs_results.best_params_"
      ],
      "execution_count": 0,
      "outputs": [
        {
          "output_type": "execute_result",
          "data": {
            "text/plain": [
              "{'metric': 'minkowski', 'n_neighbors': 149, 'weights': 'uniform'}"
            ]
          },
          "metadata": {
            "tags": []
          },
          "execution_count": 468
        }
      ]
    },
    {
      "cell_type": "code",
      "metadata": {
        "id": "jzz6_y-7nsM4",
        "colab_type": "code",
        "outputId": "21651797-f92c-43b0-95f2-8666e4e13f03",
        "colab": {
          "base_uri": "https://localhost:8080/",
          "height": 340
        }
      },
      "source": [
        "from sklearn import metrics\n",
        "pred=gs_results.predict(X_test)\n",
        "print(classification_report(pred,y_test))"
      ],
      "execution_count": 0,
      "outputs": [
        {
          "output_type": "stream",
          "text": [
            "              precision    recall  f1-score   support\n",
            "\n",
            "           0       1.00      1.00      1.00      3205\n",
            "           1       0.99      1.00      1.00      1595\n",
            "\n",
            "    accuracy                           1.00      4800\n",
            "   macro avg       1.00      1.00      1.00      4800\n",
            "weighted avg       1.00      1.00      1.00      4800\n",
            "\n",
            "              precision    recall  f1-score   support\n",
            "\n",
            "           0       0.79      0.87      0.83      4226\n",
            "           1       0.59      0.45      0.51      1774\n",
            "\n",
            "    accuracy                           0.74      6000\n",
            "   macro avg       0.69      0.66      0.67      6000\n",
            "weighted avg       0.73      0.74      0.73      6000\n",
            "\n"
          ],
          "name": "stdout"
        },
        {
          "output_type": "execute_result",
          "data": {
            "text/plain": [
              "0.7445"
            ]
          },
          "metadata": {
            "tags": []
          },
          "execution_count": 471
        }
      ]
    },
    {
      "cell_type": "code",
      "metadata": {
        "id": "lb2ckzB0PT6a",
        "colab_type": "code",
        "colab": {}
      },
      "source": [
        "from sklearn.neural_network import MLPClassifier\n",
        "from sklearn.preprocessing import StandardScaler  # doctest: +SKIP\n",
        "from sklearn.model_selection import GridSearchCV\n",
        "scaler = StandardScaler()  # doctest: +SKIP\n",
        "# Don't cheat - fit only on training data\n",
        "scaler.fit(X_train)  # doctest: +SKIP\n",
        "X_train1 = scaler.transform(X_train)  # doctest: +SKIP\n",
        "\n",
        "mlp = MLPClassifier(max_iter=100)\n",
        "parameter_space = {\n",
        "    'hidden_layer_sizes': [(50,50,50), (50,100,50), (1000,900),(1000,0),(100,8)],\n",
        "    'activation': ['logistic','tanh'],\n",
        "    'solver': ['adam'],\n",
        "    'alpha': [0.05],\n",
        "    'learning_rate': ['constant','invscaling','adaptive'],'max_iter':[1],'warm_start'}\n",
        "clf = GridSearchCV(mlp, parameter_space, n_jobs=-1, cv=5,scoring='accuracy')\n",
        "clf.fit(X_train1, y_train)"
      ],
      "execution_count": 0,
      "outputs": []
    },
    {
      "cell_type": "code",
      "metadata": {
        "id": "OoWC8KBCBV6a",
        "colab_type": "code",
        "outputId": "b081b389-b671-4d16-fe96-e7d11fec2efe",
        "colab": {
          "base_uri": "https://localhost:8080/",
          "height": 190
        }
      },
      "source": [
        "from sklearn.neural_network import MLPClassifier\n",
        "from sklearn.preprocessing import StandardScaler  # doctest: +SKIP\n",
        "from sklearn.model_selection import GridSearchCV\n",
        "\n",
        "clf =  MLPClassifier(hidden_layer_sizes=(1000,900), activation='logistic',max_iter=1,learning_rate='adaptive',warm_start=False,alpha=0.05,solver='adam')\n",
        "clf.fit(X_train, y_train)"
      ],
      "execution_count": 0,
      "outputs": [
        {
          "output_type": "stream",
          "text": [
            "/usr/local/lib/python3.6/dist-packages/sklearn/neural_network/_multilayer_perceptron.py:571: ConvergenceWarning: Stochastic Optimizer: Maximum iterations (1) reached and the optimization hasn't converged yet.\n",
            "  % self.max_iter, ConvergenceWarning)\n"
          ],
          "name": "stderr"
        },
        {
          "output_type": "execute_result",
          "data": {
            "text/plain": [
              "MLPClassifier(activation='logistic', alpha=0.05, batch_size='auto', beta_1=0.9,\n",
              "              beta_2=0.999, early_stopping=False, epsilon=1e-08,\n",
              "              hidden_layer_sizes=(1000, 900), learning_rate='adaptive',\n",
              "              learning_rate_init=0.001, max_fun=15000, max_iter=1, momentum=0.9,\n",
              "              n_iter_no_change=10, nesterovs_momentum=True, power_t=0.5,\n",
              "              random_state=None, shuffle=True, solver='adam', tol=0.0001,\n",
              "              validation_fraction=0.1, verbose=False, warm_start=False)"
            ]
          },
          "metadata": {
            "tags": []
          },
          "execution_count": 626
        }
      ]
    },
    {
      "cell_type": "code",
      "metadata": {
        "id": "ZN0_YAfUoDfv",
        "colab_type": "code",
        "colab": {}
      },
      "source": [
        "pred=clf.predict(X_test)\n",
        "print(classification_report(pred,y_test))\n",
        "print(accuracy_score(pred,y_test))"
      ],
      "execution_count": 0,
      "outputs": []
    },
    {
      "cell_type": "code",
      "metadata": {
        "id": "Bh-wRoOfY7tl",
        "colab_type": "code",
        "outputId": "f95dfc3b-ffde-45a7-d799-e1d7a35e958e",
        "colab": {
          "base_uri": "https://localhost:8080/",
          "height": 296
        }
      },
      "source": [
        "y_prob=clf.predict_proba(X_test)[:, 1]\n",
        "print(roc_auc_score(y_test,y_prob))\n",
        "dt1,dt2,_=roc_curve(y_test,y_prob)\n",
        "plt.plot(dt1, dt2, marker='.', label='Neural Network')\n",
        "plt.xlabel('False Positive Rate')\n",
        "plt.ylabel('True Positive Rate')\n",
        "# show the legend\n",
        "plt.legend()\n",
        "# show the plot\n",
        "plt.show()"
      ],
      "execution_count": 0,
      "outputs": [
        {
          "output_type": "stream",
          "text": [
            "0.8330190767310683\n"
          ],
          "name": "stdout"
        },
        {
          "output_type": "display_data",
          "data": {
            "image/png": "[encoded data removed]",
            "text/plain": [
              "<Figure size 432x288 with 1 Axes>"
            ]
          },
          "metadata": {
            "tags": []
          }
        }
      ]
    },
    {
      "cell_type": "code",
      "metadata": {
        "id": "OnO0Ng-hBgDm",
        "colab_type": "code",
        "colab": {}
      },
      "source": [
        "import numpy as np\n",
        "from sklearn.model_selection import train_test_split\n",
        "import keras\n",
        "\n",
        "x_train, x_test, y_train, y_test = train_test_split(np.asarray(X[feature_new]), np.asarray(y), test_size=0.20, shuffle= True)\n",
        "y_new=np.array(y_new)\n",
        "# The known number of output classes.\n",
        "num_classes = 3\n",
        "\n",
        "# Input image dimensions\n",
        "input_shape = (4,)\n",
        "\n",
        "# Convert class vectors to binary class matrices. This uses 1 hot encoding.\n",
        "y_train_binary = keras.utils.to_categorical(y_train, num_classes)\n",
        "y_test_binary = keras.utils.to_categorical(y_test, num_classes)\n",
        "\n",
        "x_train = x_train.reshape((19200, 6,1))\n",
        "x_test = x_test.reshape((4800, 6,1))"
      ],
      "execution_count": 0,
      "outputs": []
    },
    {
      "cell_type": "code",
      "metadata": {
        "id": "ZiBsaCvAEj58",
        "colab_type": "code",
        "outputId": "856ce547-199d-40a2-80fc-c6f897019af8",
        "colab": {
          "base_uri": "https://localhost:8080/",
          "height": 289
        }
      },
      "source": [
        "from __future__ import print_function    \n",
        "from keras.models import Sequential\n",
        "import keras\n",
        "from keras.models import Sequential\n",
        "from keras.layers import Dense, Flatten, Conv1D\n",
        "from keras.callbacks import ModelCheckpoint\n",
        "from keras.models import model_from_json\n",
        "from keras import backend as K\n",
        "\n",
        "def precision(y_true, y_pred): #taken from old keras source code\n",
        "     true_positives = K.sum(K.round(K.clip(y_true * y_pred, 0, 1)))\n",
        "     predicted_positives = K.sum(K.round(K.clip(y_pred, 0, 1)))\n",
        "     precision = true_positives / (predicted_positives + K.epsilon())\n",
        "     return precision\n",
        "def recall(y_true, y_pred): #taken from old keras source code\n",
        "     true_positives = K.sum(K.round(K.clip(y_true * y_pred, 0, 1)))\n",
        "     possible_positives = K.sum(K.round(K.clip(y_true, 0, 1)))\n",
        "     recall = true_positives / (possible_positives + K.epsilon())\n",
        "     return recall\n",
        "def f1_score(y_true, y_pred):\n",
        "\n",
        "    # Count positive samples.\n",
        "    c1 = K.sum(K.round(K.clip(y_true * y_pred, 0, 1)))\n",
        "    c2 = K.sum(K.round(K.clip(y_pred, 0, 1)))\n",
        "    c3 = K.sum(K.round(K.clip(y_true, 0, 1)))\n",
        "\n",
        "    # If there are no true samples, fix the F1 score at 0.\n",
        "    if c3 == 0:\n",
        "        return 0\n",
        "\n",
        "    # How many selected items are relevant?\n",
        "    precision = c1 / c2\n",
        "\n",
        "    # How many relevant items are selected?\n",
        "    recall = c1 / c3\n",
        "\n",
        "    # Calculate f1_score\n",
        "    f1_score = 2 * (precision * recall) / (precision + recall)\n",
        "    return f1_score\n",
        "\n",
        "model = Sequential()\n",
        "model.add(Conv1D(32, (3), input_shape=(6,1), activation='sigmoid'))\n",
        "model.add(Flatten())\n",
        "model.add(Dense(64, activation='sigmoid'))\n",
        "model.add(Dense(num_classes, activation='sigmoid'))\n",
        "\n",
        "model.compile(loss=keras.losses.categorical_crossentropy,\n",
        "              optimizer=keras.optimizers.Adam(),\n",
        "              metrics=['accuracy'])\n",
        "\n",
        "model.summary()"
      ],
      "execution_count": 0,
      "outputs": [
        {
          "output_type": "stream",
          "text": [
            "Model: \"sequential_3\"\n",
            "_________________________________________________________________\n",
            "Layer (type)                 Output Shape              Param #   \n",
            "=================================================================\n",
            "conv1d_3 (Conv1D)            (None, 4, 32)             128       \n",
            "_________________________________________________________________\n",
            "flatten_3 (Flatten)          (None, 128)               0         \n",
            "_________________________________________________________________\n",
            "dense_5 (Dense)              (None, 64)                8256      \n",
            "_________________________________________________________________\n",
            "dense_6 (Dense)              (None, 3)                 195       \n",
            "=================================================================\n",
            "Total params: 8,579\n",
            "Trainable params: 8,579\n",
            "Non-trainable params: 0\n",
            "_________________________________________________________________\n"
          ],
          "name": "stdout"
        }
      ]
    },
    {
      "cell_type": "code",
      "metadata": {
        "id": "3QiFHAw9Eu_-",
        "colab_type": "code",
        "outputId": "5d8009e9-b90e-40d8-91b1-b62b90d40cef",
        "colab": {
          "base_uri": "https://localhost:8080/",
          "height": 204
        }
      },
      "source": [
        "batch_size = 128\n",
        "epochs = 5\n",
        "model = model.fit(x_train, y_train_binary,\n",
        "          batch_size=batch_size,\n",
        "          epochs=epochs,\n",
        "          verbose=1,\n",
        "          validation_data=(x_new, y_new_binary))"
      ],
      "execution_count": 0,
      "outputs": [
        {
          "output_type": "stream",
          "text": [
            "Train on 19200 samples, validate on 6000 samples\n",
            "Epoch 1/5\n",
            "19200/19200 [==============================] - 1s 37us/step - loss: 0.6354 - acc: 0.6675 - val_loss: 0.5422 - val_acc: 0.7712\n",
            "Epoch 2/5\n",
            "19200/19200 [==============================] - 0s 19us/step - loss: 0.5039 - acc: 0.8189 - val_loss: 0.6450 - val_acc: 0.7712\n",
            "Epoch 3/5\n",
            "19200/19200 [==============================] - 0s 20us/step - loss: 0.4435 - acc: 0.8565 - val_loss: 0.6403 - val_acc: 0.7712\n",
            "Epoch 4/5\n",
            "19200/19200 [==============================] - 0s 20us/step - loss: 0.3924 - acc: 0.8612 - val_loss: 0.6411 - val_acc: 0.7712\n",
            "Epoch 5/5\n",
            "19200/19200 [==============================] - 0s 18us/step - loss: 0.3340 - acc: 0.8814 - val_loss: 0.6635 - val_acc: 0.7710\n"
          ],
          "name": "stdout"
        }
      ]
    },
    {
      "cell_type": "code",
      "metadata": {
        "id": "VZ92ikBlKA0E",
        "colab_type": "code",
        "outputId": "3dcf6549-47b0-4fa5-f7bc-fc885e82c7e6",
        "colab": {
          "base_uri": "https://localhost:8080/",
          "height": 295
        }
      },
      "source": [
        "plt.plot(model.history['loss'])\n",
        "plt.plot(model.history['val_loss'])\n",
        "plt.title('model train vs validation loss')\n",
        "plt.ylabel('loss')\n",
        "plt.xlabel('epoch')\n",
        "plt.legend(['train', 'validation'], loc='upper right')\n",
        "plt.show()"
      ],
      "execution_count": 0,
      "outputs": [
        {
          "output_type": "display_data",
          "data": {
            "image/png": "[encoded data removed]",
            "text/plain": [
              "<Figure size 432x288 with 1 Axes>"
            ]
          },
          "metadata": {
            "tags": []
          }
        }
      ]
    },
    {
      "cell_type": "code",
      "metadata": {
        "id": "qIjiZtnIBDR5",
        "colab_type": "code",
        "outputId": "a55581d6-b178-4607-8d51-f90b6154d60d",
        "colab": {
          "base_uri": "https://localhost:8080/",
          "height": 119
        }
      },
      "source": [
        "clf.best_score_\n",
        "clf.best_estimator_\n",
        "clf.best_params_"
      ],
      "execution_count": 0,
      "outputs": [
        {
          "output_type": "execute_result",
          "data": {
            "text/plain": [
              "{'activation': 'tanh',\n",
              " 'alpha': 0.05,\n",
              " 'hidden_layer_sizes': (100,),\n",
              " 'learning_rate': 'adaptive',\n",
              " 'solver': 'adam',\n",
              " 'warm_start': False}"
            ]
          },
          "metadata": {
            "tags": []
          },
          "execution_count": 233
        }
      ]
    },
    {
      "cell_type": "code",
      "metadata": {
        "id": "LK6So1fMOLew",
        "colab_type": "code",
        "outputId": "d02addba-27ae-4b07-cc71-5f94d944cf1a",
        "colab": {
          "base_uri": "https://localhost:8080/",
          "height": 323
        }
      },
      "source": [
        "from sklearn.svm import SVC\n",
        "svm=SVC()\n",
        "svm.fit(X_train,y_train)\n",
        "y_pred=svm.predict(X_test)\n",
        "print(classification_report(y_pred,y_test))"
      ],
      "execution_count": 0,
      "outputs": [
        {
          "output_type": "stream",
          "text": [
            "              precision    recall  f1-score   support\n",
            "\n",
            "           0       1.00      1.00      1.00      3195\n",
            "           1       1.00      1.00      1.00      1605\n",
            "\n",
            "    accuracy                           1.00      4800\n",
            "   macro avg       1.00      1.00      1.00      4800\n",
            "weighted avg       1.00      1.00      1.00      4800\n",
            "\n",
            "              precision    recall  f1-score   support\n",
            "\n",
            "           0       0.78      0.87      0.82      4173\n",
            "           1       0.60      0.45      0.52      1827\n",
            "\n",
            "    accuracy                           0.74      6000\n",
            "   macro avg       0.69      0.66      0.67      6000\n",
            "weighted avg       0.73      0.74      0.73      6000\n",
            "\n"
          ],
          "name": "stdout"
        }
      ]
    }
  ]
}
